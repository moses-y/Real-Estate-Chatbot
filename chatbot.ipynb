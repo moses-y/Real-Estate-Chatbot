# Install required packages
!pip install fastapi uvicorn sentence-transformers pandas nltk pyngrok
# Authenticate ngrok with your authtoken
!ngrok authtoken 2ttCGzOQDPr6uIeBd7u08d7cDcr_ZYcVdG5KAEcDzuw2seCi

# Import required libraries
from flask import Flask, render_template, request, jsonify
import numpy as np
from sklearn.feature_extraction.text import TfidfVectorizer
from sklearn.metrics.pairwise import cosine_similarity
from pyngrok import ngrok  # Import pyngrok to manually tunnel the Flask app

# Initialize Flask app
app = Flask(__name__)

# Sample dataset of questions and answers related to real estate
data = {
    'Question': [
        'How can I schedule a property viewing?',
        'What documents do I need to buy a house?',
        'What is the price range for houses in Nyeri?',
        'How do I check if a property has a valid title deed?',
        'What are the steps to buying land in Nairobi?',
        'Do you have rental apartments in Eldoret?',
        'What should I consider when choosing a real estate agent?',
        'What are the legal requirements for buying a house in Kitengela?',
        'Do you offer virtual property tours?',
        'What factors affect property value appreciation?',
        'Can I negotiate the price of a house?',
        'What is the best location to invest in real estate currently?',
        'What financing options do you offer for home purchases?',
        'How do I calculate my monthly mortgage payments?',
        'What are the common home loan interest rates?',
        'What are the available properties for sale in Kitengela?',
        'Do you offer short-term rental properties?',
        'What is the return on investment (ROI) for rental properties?',
        'How can I determine the market value of my property?',
        'What are the legal requirements for buying a house in Nairobi?',
        'How do I list my property for sale with Kwetu Homes?',
        'What amenities are available in Kwetu Homes properties?',
        'Are there any additional costs when purchasing a home?',
        'Do you provide property management services?',
        'How long does the home buying process take?',
        'What are the different property types available at Kwetu Homes?',
        'Can I purchase a home with a payment plan?',
        'What is the process of renting a home with Kwetu Homes?',
        'Do you assist with mortgage financing?',
        'What are the legal steps involved in buying a property?',
        'Can I buy land from Kwetu Homes?',
        'What are the benefits of investing in real estate?',
        'How can I check the ownership history of a property?',
        'What should I consider before buying an apartment?',
        'What is the average rental yield for properties in Nairobi?',
        'What happens if I default on my mortgage payments?',
        'Does Kwetu Homes offer furnished apartments?',
        'Are there discounts for first-time homebuyers?',
        'How do I transfer property ownership?',
        'What security features are available in Kwetu Homes estates?',
        'Are there any upcoming property developments by Kwetu Homes?',
        'Can I get assistance in reselling my property?',
        'What is the minimum deposit required to buy a property?',
        'Do you provide rental management services?',
        'What documents do I need to apply for a home loan?',
        'How can I increase the value of my property before selling?',
        'Can foreigners buy property in Kenya?',
        'What factors determine property price changes?',
        'How do I confirm that a property is legally registered?',
        'What is the land tenure system in Kenya?'
    ],
    'Answer': [
        'You can schedule a property viewing by contacting our agents via phone or email.',
        'To buy a house, you need identification, proof of income, and a signed sale agreement.',
        'The price range for houses in Nyeri varies between KES 5M and KES 50M.',
        'You can verify a title deed at the local land registry to ensure ownership legitimacy.',
        'Buying land involves due diligence, title deed verification, and legal paperwork.',
        'Yes, we have several rental apartments in Eldoret with different price ranges.',
        'When choosing an agent, consider their experience, reputation, and market knowledge.',
        'The legal requirements include title deed verification, contract signing, and land registry checks.',
        'Yes, we provide virtual tours to help you view properties remotely.',
        'Factors affecting property value include location, infrastructure, and demand trends.',
        'Yes, property prices are often negotiable depending on market conditions and seller preferences.',
        'Investment potential in Machakos is high due to infrastructure development and economic growth.',
        'We offer financing options including mortgages and installment payment plans.',
        'Monthly mortgage payments depend on the loan amount, interest rate, and loan tenure.',
        'Home loan interest rates typically range from 9% to 13% per annum.',
        'Yes, we have several properties for sale in Kitengela with different price ranges.',
        'Yes, we offer short-term rental properties for business and leisure stays.',
        'Rental property ROI in Nakuru averages between 6% and 12% annually.',
        'Market value is determined by location, property size, condition, and demand.',
        'The home buying process typically takes 30 to 90 days, depending on financing and paperwork.',
        'You can list your property for sale with Kwetu Homes by submitting details through our website.',
        'Kwetu Homes properties feature amenities such as security, parking, swimming pools, and gardens.',
        'Additional costs may include legal fees, stamp duty, and maintenance charges.',
        'Yes, we provide rental and property management services.',
        'The home buying process typically takes 30 to 90 days, depending on financing and paperwork.',
        'Kwetu Homes offers apartments, townhouses, and standalone houses.',
        'Yes, we offer installment payment plans for home buyers.',
        'To rent a home, visit our website, choose a property, and complete the application process.',
        'Yes, we assist buyers in securing mortgage financing.',
        'Legal steps include signing a sale agreement, title deed verification, and land registry submission.',
        'Yes, Kwetu Homes sells land in various locations.',
        'Investing in real estate provides passive income, asset appreciation, and financial security.',
        'You can check ownership history at the land registry.',
        'Consider location, developer reputation, and amenities before buying an apartment.',
        'The average rental yield in Nairobi ranges from 5% to 10% per year.',
        'If you default on mortgage payments, the lender may repossess your property.',
        'Yes, Kwetu Homes offers both furnished and unfurnished apartments.',
        'Yes, first-time buyers may be eligible for discounts and promotional offers.',
        'Property transfer requires a signed agreement, title deed, and registration with the land office.',
        'Kwetu Homes estates include CCTV, perimeter walls, and 24/7 security.',
        'Yes, Kwetu Homes has upcoming developments in various locations.',
        'Yes, we assist homeowners in reselling their properties.',
        'A minimum deposit of 10-20% is typically required to buy a property.',
        'Yes, we provide rental management services, including tenant screening and rent collection.',
        'Required documents include identification, bank statements, and proof of income.',
        'Improve your property value by renovating, repainting, and landscaping.',
        'Yes, foreigners can buy property in Kenya, but with some restrictions on land ownership.',
        'Property prices are influenced by market demand, economic conditions, and location.',
        'To confirm legal registration, check with the Ministry of Lands or hire a lawyer.',
        'Kenya has both freehold and leasehold land tenure systems.'
    ]
}

# Initialize TF-IDF Vectorizer for text similarity
vectorizer = TfidfVectorizer()

# Convert the questions from the dataset into TF-IDF vectors
corpus = list(data['Question'])  # Extract the questions
X = vectorizer.fit_transform(corpus)  # Convert questions to vectors

# Handle greetings and salutations
greetings = ['hi', 'hello', 'good morning', 'good evening', 'hey', 'howdy', 'hola', 'greetings']
greeting_responses = [
    "Hello! How can I assist you today?",
    "Hi there! How can I help you?",
    "Good day! How can I help you?",
    "Hey! How can I assist you today?"
]

@app.route('/')
def home():
    return """
    <html>
        <body>
            <h1>Real Estate Chatbot</h1>
            <input type="text" id="user_input" placeholder="Ask me anything about real estate...">
            <button onclick="sendMessage()">Send</button>
            <div id="response"></div>

            <script>
            function sendMessage() {
                var message = document.getElementById('user_input').value;
                fetch("/chat", {
                    method: 'POST',
                    headers: {
                        'Content-Type': 'application/x-www-form-urlencoded'
                    },
                    body: 'message=' + message
                }).then(response => response.json()).then(data => {
                    document.getElementById('response').innerText = data.response;
                });
            }
            </script>
        </body>
    </html>
    """

@app.route('/chat', methods=['POST'])
def chat():
    user_message = request.form['message'].lower()

    # Check if message is a greeting
    if any(greeting in user_message for greeting in greetings):
        response = np.random.choice(greeting_responses)  # Return a random greeting response
    else:
        # Convert user message to vector
        user_message_vector = vectorizer.transform([user_message])

        # Calculate similarity between user message and predefined questions
        similarities = cosine_similarity(user_message_vector, X)

        # Get the index of the most similar question
        most_similar_index = np.argmax(similarities)

        # Return the answer associated with the most similar question
        response = data['Answer'][most_similar_index]

    return jsonify({'response': response})

# Run ngrok to expose the Flask app to the internet
public_url = ngrok.connect(5000)
print(f"Flask app running on {public_url}")

# Run the Flask app
app.run()
